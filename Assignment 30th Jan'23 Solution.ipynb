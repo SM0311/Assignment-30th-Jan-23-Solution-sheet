{
 "cells": [
  {
   "cell_type": "markdown",
   "id": "75c54d38-8ab9-43cd-a0c0-4f38792cd928",
   "metadata": {},
   "source": [
    "##Answer 1.\n",
    "\n",
    "percentage = float(input(\"Enter your percentage: \"))\n",
    "\n",
    "if percentage > 90:\n",
    "    \n",
    "    grade = 'A'\n",
    "\n",
    "elif percentage > 80 and percentage <= 90:\n",
    "    \n",
    "    grade = 'B'\n",
    "\n",
    "elif percentage >= 60 and percentage <= 80:\n",
    "   \n",
    "    grade = 'C'\n",
    "\n",
    "else:\n",
    "    \n",
    "    grade = 'D'\n",
    "\n",
    "print(f\"Your grade is {grade}\")"
   ]
  },
  {
   "cell_type": "markdown",
   "id": "c0d03b59-86a8-46a9-ae49-1778f4635fd9",
   "metadata": {},
   "source": [
    "##Answer 2.\n",
    "\n",
    "cost_price = float(input(\"Enter the cost price of the bike: \"))\n",
    "\n",
    "if cost_price > 100000:\n",
    "\n",
    "road_tax = cost_price * 0.15\n",
    "\n",
    "elif cost_price > 50000:\n",
    "\n",
    "road_tax = cost_price * 0.1\n",
    "\n",
    "else:\n",
    "\n",
    "road_tax = cost_price * 0.05\n",
    "\n",
    "print(\"The road tax to be paid is:\", road_tax)"
   ]
  },
  {
   "cell_type": "markdown",
   "id": "937568df-18fe-4300-a13c-0dd3a8d3fcdc",
   "metadata": {},
   "source": [
    "##Answer 3. \n",
    "\n",
    "city = input(\"Enter a city (Delhi, Agra, Jaipur): \")\n",
    "\n",
    "if city == \"Delhi\":\n",
    "    \n",
    "    monuments = [\"Red Fort\"]\n",
    "\n",
    "elif city == \"Agra\":\n",
    "    \n",
    "    monuments = [\"Taj Mahal\"]\n",
    "\n",
    "elif city == \"Jaipur\":\n",
    "    \n",
    "    monuments = [\"Jai Mahal\"]\n",
    "\n",
    "else:\n",
    "    monuments = []\n",
    "\n",
    "\n",
    "if monuments:\n",
    "    \n",
    "    print(\"The monuments of\", city, \"are:\")\n",
    "   \n",
    "    for monument in monuments:\n",
    "        \n",
    "        print(\"-\", monument)\n",
    "\n",
    "else:\n",
    "    \n",
    "    print(\"Sorry, There is no information of monuments\", city)\n"
   ]
  },
  {
   "cell_type": "markdown",
   "id": "b9b57687-836a-406c-9421-30ffca4819ea",
   "metadata": {},
   "source": [
    "##Answer 4.\n",
    "\n",
    "number = int(input(\"Enter a number: \"))\n",
    "\n",
    "count = 0\n",
    "\n",
    "while number > 10:\n",
    "\n",
    "number /= 3\n",
    "count += 1\n",
    "\n",
    "print(\"The number can be divided by 3\", count, \"times before it is less than or equal to 10.\")"
   ]
  },
  {
   "cell_type": "markdown",
   "id": "0d4dbe6a-955b-4aa3-8afd-50582ad1507a",
   "metadata": {},
   "source": [
    "##Answer 5. \n",
    "\n",
    "A while loop is used when you need to execute a block of code repeatedly as long as a certain condition is true. The loop will continue to execute as long as the condition remains true, and will exit as soon as the condition becomes false.\n",
    "\n",
    "Example - As in code cells below -  "
   ]
  },
  {
   "cell_type": "markdown",
   "id": "bb180b3c-8263-47d0-8c54-6433c22fd68e",
   "metadata": {},
   "source": [
    "i = 1 while i <= 5:\n",
    "\n",
    "print(i)\n",
    "\n",
    "i += 1   \n",
    "\n",
    " ##Output =  1 \n",
    "            \n",
    "            2\n",
    "            \n",
    "            3\n",
    "            \n",
    "            4\n",
    "            \n",
    "            5\n",
    "As per the example above - the value of i continues iterating in the loop till the value of i reacheas to >= 5 and then it terminates."
   ]
  },
  {
   "cell_type": "code",
   "execution_count": 1,
   "id": "801dd1ce-b210-41a7-8639-403940289f82",
   "metadata": {},
   "outputs": [
    {
     "name": "stdout",
     "output_type": "stream",
     "text": [
      "* * * * * \n",
      "* * * * * \n",
      "* * * * * \n",
      "* * * * * \n",
      "* * * * * \n"
     ]
    }
   ],
   "source": [
    "##Answer 6.\n",
    "\n",
    "# Print a square pattern\n",
    "\n",
    "n = 5\n",
    "i = 1\n",
    "while i <= n:\n",
    "    j = 1\n",
    "    while j <= n:\n",
    "        print(\"* \", end=\"\")\n",
    "        j += 1\n",
    "    print()\n",
    "    i += 1"
   ]
  },
  {
   "cell_type": "code",
   "execution_count": 2,
   "id": "5b02f52b-6c35-4d4f-aa87-4ead9f1308ad",
   "metadata": {},
   "outputs": [
    {
     "name": "stdout",
     "output_type": "stream",
     "text": [
      "* \n",
      "* * \n",
      "* * * \n",
      "* * * * \n",
      "* * * * * \n"
     ]
    }
   ],
   "source": [
    "# Print a right-angled triangle pattern\n",
    "n = 5\n",
    "i = 1\n",
    "while i <= n:\n",
    "    j = 1\n",
    "    while j <= i:\n",
    "        print(\"* \", end=\"\")\n",
    "        j += 1\n",
    "    print()\n",
    "    i += 1"
   ]
  },
  {
   "cell_type": "code",
   "execution_count": 4,
   "id": "dab21694-c543-474e-97c3-9b353bf6fa54",
   "metadata": {},
   "outputs": [
    {
     "name": "stdout",
     "output_type": "stream",
     "text": [
      "* * * * * \n",
      "* * * * \n",
      "* * * \n",
      "* * \n",
      "* \n"
     ]
    }
   ],
   "source": [
    "# Print an inverted right-angled triangle pattern\n",
    "n = 5\n",
    "i = n\n",
    "while i >= 1:\n",
    "    j = 1\n",
    "    while j <= i:\n",
    "        print(\"* \", end=\"\")\n",
    "        j += 1\n",
    "    print()\n",
    "    i -= 1\n"
   ]
  },
  {
   "cell_type": "code",
   "execution_count": 5,
   "id": "d277cbd4-338e-4d7f-9b7b-075b3f65ad44",
   "metadata": {},
   "outputs": [
    {
     "name": "stdout",
     "output_type": "stream",
     "text": [
      "10\n",
      "9\n",
      "8\n",
      "7\n",
      "6\n",
      "5\n",
      "4\n",
      "3\n",
      "2\n",
      "1\n"
     ]
    }
   ],
   "source": [
    "##Answer 7.\n",
    "\n",
    "i = 10\n",
    "while i >= 1:\n",
    "    print(i)\n",
    "    i -= 1\n"
   ]
  },
  {
   "cell_type": "markdown",
   "id": "9cb6ec47-a7bb-4903-ae0d-24faac3f0b50",
   "metadata": {},
   "source": [
    "**Answer 8.** Sorry, by mistake I reckon someone repaeted the Q7 & Q8 back to back. However, the above code be follwed to to print the numbers in reverse order.\n",
    "\n",
    "\n"
   ]
  }
 ],
 "metadata": {
  "kernelspec": {
   "display_name": "Python 3 (ipykernel)",
   "language": "python",
   "name": "python3"
  },
  "language_info": {
   "codemirror_mode": {
    "name": "ipython",
    "version": 3
   },
   "file_extension": ".py",
   "mimetype": "text/x-python",
   "name": "python",
   "nbconvert_exporter": "python",
   "pygments_lexer": "ipython3",
   "version": "3.10.8"
  }
 },
 "nbformat": 4,
 "nbformat_minor": 5
}
